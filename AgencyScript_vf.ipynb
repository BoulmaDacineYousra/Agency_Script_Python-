{
  "cells": [
    {
      "cell_type": "markdown",
      "source": [
        "## **`In this section, we will perform all the necessary library installations for the project.`**\n",
        "\n",
        "\n",
        "\n",
        "---\n",
        "\n",
        "\n",
        "\n",
        "\n",
        "\n",
        "\n",
        "\n",
        "\n",
        "\n",
        "\n",
        "\n",
        "\n",
        "\n",
        "\n"
      ],
      "metadata": {
        "id": "xKI-ejuoqQ3T"
      }
    },
    {
      "cell_type": "code",
      "source": [
        " \n",
        "pip install names"
      ],
      "metadata": {
        "colab": {
          "base_uri": "https://localhost:8080/"
        },
        "id": "4zcQrsI9sYBO",
        "outputId": "4a59b754-1954-4901-d91c-7d9ca47051bf"
      },
      "execution_count": 1,
      "outputs": [
        {
          "output_type": "stream",
          "name": "stdout",
          "text": [
            "Looking in indexes: https://pypi.org/simple, https://us-python.pkg.dev/colab-wheels/public/simple/\n",
            "Collecting names\n",
            "  Downloading names-0.3.0.tar.gz (789 kB)\n",
            "\u001b[2K     \u001b[90m━━━━━━━━━━━━━━━━━━━━━━━━━━━━━━━━━━━━━━\u001b[0m \u001b[32m789.1/789.1 KB\u001b[0m \u001b[31m21.0 MB/s\u001b[0m eta \u001b[36m0:00:00\u001b[0m\n",
            "\u001b[?25h  Preparing metadata (setup.py) ... \u001b[?25l\u001b[?25hdone\n",
            "Building wheels for collected packages: names\n",
            "  Building wheel for names (setup.py) ... \u001b[?25l\u001b[?25hdone\n",
            "  Created wheel for names: filename=names-0.3.0-py3-none-any.whl size=803698 sha256=d0db3241156b303e2f5fd85effdd3ebe25cab24a33a17e68afa642a17176c14f\n",
            "  Stored in directory: /root/.cache/pip/wheels/f1/bc/04/55ab9499ea02359ece8b02b4169ebb30aa52d82b84c13fc506\n",
            "Successfully built names\n",
            "Installing collected packages: names\n",
            "Successfully installed names-0.3.0\n"
          ]
        }
      ]
    },
    {
      "cell_type": "code",
      "source": [
        "pip install randominfo"
      ],
      "metadata": {
        "colab": {
          "base_uri": "https://localhost:8080/"
        },
        "id": "VgAm6pkWGg-h",
        "outputId": "1ce0b2a6-5aaf-4fed-c21e-10caf308b860"
      },
      "execution_count": 2,
      "outputs": [
        {
          "output_type": "stream",
          "name": "stdout",
          "text": [
            "Looking in indexes: https://pypi.org/simple, https://us-python.pkg.dev/colab-wheels/public/simple/\n",
            "Collecting randominfo\n",
            "  Downloading randominfo-2.0.2-py3-none-any.whl (6.4 MB)\n",
            "\u001b[2K     \u001b[90m━━━━━━━━━━━━━━━━━━━━━━━━━━━━━━━━━━━━━━━━\u001b[0m \u001b[32m6.4/6.4 MB\u001b[0m \u001b[31m59.0 MB/s\u001b[0m eta \u001b[36m0:00:00\u001b[0m\n",
            "\u001b[?25hRequirement already satisfied: pillow>=5.4.1 in /usr/local/lib/python3.9/dist-packages (from randominfo) (8.4.0)\n",
            "Requirement already satisfied: pytz>=2018.5 in /usr/local/lib/python3.9/dist-packages (from randominfo) (2022.7.1)\n",
            "Installing collected packages: randominfo\n",
            "Successfully installed randominfo-2.0.2\n"
          ]
        }
      ]
    },
    {
      "cell_type": "code",
      "source": [
        "pip install phone-gen"
      ],
      "metadata": {
        "colab": {
          "base_uri": "https://localhost:8080/"
        },
        "id": "gbU8UpRbEBTT",
        "outputId": "20a97d06-5aed-4ce4-eb83-408b68fdf657"
      },
      "execution_count": 3,
      "outputs": [
        {
          "output_type": "stream",
          "name": "stdout",
          "text": [
            "Looking in indexes: https://pypi.org/simple, https://us-python.pkg.dev/colab-wheels/public/simple/\n",
            "Collecting phone-gen\n",
            "  Downloading phone_gen-2.2.25-py3-none-any.whl (34 kB)\n",
            "Installing collected packages: phone-gen\n",
            "Successfully installed phone-gen-2.2.25\n"
          ]
        }
      ]
    },
    {
      "cell_type": "code",
      "source": [
        "pip install randominfo\n"
      ],
      "metadata": {
        "colab": {
          "base_uri": "https://localhost:8080/"
        },
        "id": "9f1WIJsOImVI",
        "outputId": "6a71f264-f8da-49ca-b66e-52d231a6b045"
      },
      "execution_count": 4,
      "outputs": [
        {
          "output_type": "stream",
          "name": "stdout",
          "text": [
            "Looking in indexes: https://pypi.org/simple, https://us-python.pkg.dev/colab-wheels/public/simple/\n",
            "Requirement already satisfied: randominfo in /usr/local/lib/python3.9/dist-packages (2.0.2)\n",
            "Requirement already satisfied: pytz>=2018.5 in /usr/local/lib/python3.9/dist-packages (from randominfo) (2022.7.1)\n",
            "Requirement already satisfied: pillow>=5.4.1 in /usr/local/lib/python3.9/dist-packages (from randominfo) (8.4.0)\n"
          ]
        }
      ]
    },
    {
      "cell_type": "markdown",
      "source": [
        "## **`In this section, we will declare functions that generate agency information`**"
      ],
      "metadata": {
        "id": "cj49v7i4rkxZ"
      }
    },
    {
      "cell_type": "code",
      "source": [],
      "metadata": {
        "id": "6XeYHUvS0Dg1"
      },
      "execution_count": 4,
      "outputs": []
    },
    {
      "cell_type": "code",
      "source": [
        "# function that returns random client name \n",
        "\n",
        "import pandas as pd\n",
        "import random\n",
        "\n",
        "dfa = pd.read_csv('agency.csv', header=0)\n",
        "df = dfa.dropna(subset=['AGENCE', 'EMAIL' , 'TEL 1' , 'VILLES'])\n",
        "# print(df)\n",
        "\n",
        "\n",
        "\n",
        "\n",
        "merged_columnn = (df['AGENCE'] + '*' + df['EMAIL']+ '*' +df[\"TEL 1\"].astype(str) + '*' +df[\"VILLES\"]  ).tolist()\n",
        "def get_agency () : \n",
        "   merged_columnn = (df['AGENCE'] + '*' + df['EMAIL']+ '*' +df[\"TEL 1\"].astype(str) + '*' +df[\"VILLES\"]  ).tolist()\n",
        "  \n",
        "   random_item = random.choices(merged_columnn)[0]\n",
        "   return random_item\n",
        "   \n",
        "\n",
        "\n",
        "agency = get_agency()  \n",
        "list_info = str(agency).split(\"*\")\n",
        "print (list_info)\n",
        "print(list_info[1])\n",
        "\n",
        "\n",
        "\n",
        "    "
      ],
      "metadata": {
        "colab": {
          "base_uri": "https://localhost:8080/"
        },
        "id": "aiJG9zs9spyN",
        "outputId": "89d80474-4b55-41ac-8c3f-189bb1ee2c83"
      },
      "execution_count": 28,
      "outputs": [
        {
          "output_type": "stream",
          "name": "stdout",
          "text": [
            "['LEADER TOURS', 'manager@leadertours-dz.com', '0 21771535\\n', 'TLEMCEN']\n",
            "manager@leadertours-dz.com\n"
          ]
        }
      ]
    },
    {
      "cell_type": "code",
      "source": [
        "import random\n",
        "import string\n",
        "\n",
        "def generate_email(name ):\n",
        "    \"\"\"Generate a random email address\"\"\"\n",
        "    letters = string.ascii_lowercase\n",
        "    username = name\n",
        "    domain = random.choice(['gmail.com', 'yahoo.com', 'hotmail.com', 'outlook.com'])\n",
        "    return f\"{username}@{domain}\"\n",
        "\n",
        "generate_email(\"alex\")\n",
        "\n"
      ],
      "metadata": {
        "colab": {
          "base_uri": "https://localhost:8080/",
          "height": 35
        },
        "id": "G7TqUcRt7ZQt",
        "outputId": "3829ac37-9f30-4691-b836-45491a78fcf0"
      },
      "execution_count": 6,
      "outputs": [
        {
          "output_type": "execute_result",
          "data": {
            "text/plain": [
              "'alex@gmail.com'"
            ],
            "application/vnd.google.colaboratory.intrinsic+json": {
              "type": "string"
            }
          },
          "metadata": {},
          "execution_count": 6
        }
      ]
    },
    {
      "cell_type": "code",
      "source": [
        "from phone_gen import PhoneNumber\n",
        "def phoneNumber() : \n",
        "   phone_number = PhoneNumber(\"Algeria\")\n",
        "   number = phone_number.get_mobile()\n",
        "   return number \n",
        "\n",
        "phoneNumber()   \n"
      ],
      "metadata": {
        "colab": {
          "base_uri": "https://localhost:8080/",
          "height": 35
        },
        "id": "1S0G0Aq8ELOa",
        "outputId": "213acc62-b0be-43d8-c368-41b8c16e9db5"
      },
      "execution_count": 7,
      "outputs": [
        {
          "output_type": "execute_result",
          "data": {
            "text/plain": [
              "'+213794592106'"
            ],
            "application/vnd.google.colaboratory.intrinsic+json": {
              "type": "string"
            }
          },
          "metadata": {},
          "execution_count": 7
        }
      ]
    },
    {
      "cell_type": "code",
      "source": [
        "import random\n",
        "\n",
        "def get_client_Add() : \n",
        "    my_list2 = ['national','international']\n",
        "    weights = [100, 2]  # Bias towards item1\n",
        "    random_item = random.choices(my_list2, weights=weights, k=1)[0] \n",
        "    return random_item"
      ],
      "metadata": {
        "id": "1VaRF3Xv1SRV"
      },
      "execution_count": 9,
      "outputs": []
    },
    {
      "cell_type": "markdown",
      "source": [
        "## **`In this section, we will read the csv file that contains info about the Hotels .`**"
      ],
      "metadata": {
        "id": "3E_cULYCsnJZ"
      }
    },
    {
      "cell_type": "code",
      "source": [
        "import pandas as pd\n",
        "\n",
        "df = pd.read_csv('hotels.csv', header=0)\n",
        "print(df)\n",
        "\n",
        "\n"
      ],
      "metadata": {
        "id": "JoiqElchFG71",
        "colab": {
          "base_uri": "https://localhost:8080/"
        },
        "outputId": "3a691af7-cf5b-4992-c4b6-0c9080a6c23e"
      },
      "execution_count": 10,
      "outputs": [
        {
          "output_type": "stream",
          "name": "stdout",
          "text": [
            "     id_hotel                 nom_hotel           ville         categorie  \\\n",
            "0           3     Complexe Naoui Charef          Djelfa   Station thermal   \n",
            "1           2           Hammam Salihine          Biskra   Station thermal   \n",
            "2           4            Hammam Meloune           Blida   Station thermal   \n",
            "3           5          Hammam Bouhadjar  Ain Témouchent   Station thermal   \n",
            "4           6          Hamma Bouhanifia         Mascara   Station thermal   \n",
            "..        ...                       ...             ...               ...   \n",
            "143       143      HOTEL TULIP INN NAYA           Alger  Ville ( Urbain )   \n",
            "144       144      HOTEL EDEN BEL ABBAS   Sidi Belabbes  Ville ( Urbain )   \n",
            "145       145       HOTEL AZ GRAND ORAN            Oran  Ville ( Urbain )   \n",
            "146       146  HOTEL EVASION BY LIBERTE            Oran  Ville ( Urbain )   \n",
            "147       147            HOTEL BAY DIAB           Alger  Ville ( Urbain )   \n",
            "\n",
            "    type_hotel  nombre_chambre  dispo_namlatic  classifying  \n",
            "0       Loisir             207              23            3  \n",
            "1      Détente             238              37            5  \n",
            "2      Détente             199              22            4  \n",
            "3      Détente             298              21            3  \n",
            "4      Détente             228              50            3  \n",
            "..         ...             ...             ...          ...  \n",
            "143    Famille             248              23            4  \n",
            "144    Famille             293              31            5  \n",
            "145     Loisir             256              40            5  \n",
            "146    Détente             169              41            5  \n",
            "147    Détente             297              43            5  \n",
            "\n",
            "[148 rows x 8 columns]\n"
          ]
        }
      ]
    },
    {
      "cell_type": "markdown",
      "source": [
        "## ***`*In this section, we will declare functions that generate reservation  information.*`***"
      ],
      "metadata": {
        "id": "06jLSn_EtIqw"
      }
    },
    {
      "cell_type": "code",
      "source": [
        "# Python3 code to generate the\n",
        "# random id using uuid1()\n",
        "\n",
        "import uuid\n",
        "def gen_id() : \n",
        "\n",
        "  return uuid.uuid4().hex\n",
        "\n",
        "gen_id()  \n",
        "\n"
      ],
      "metadata": {
        "colab": {
          "base_uri": "https://localhost:8080/",
          "height": 35
        },
        "id": "ktNhS7yU87oK",
        "outputId": "7f645bc0-6b55-44ea-f7d5-dd7185140f45"
      },
      "execution_count": 11,
      "outputs": [
        {
          "output_type": "execute_result",
          "data": {
            "text/plain": [
              "'389d574a56a34d25ad6327e340af693d'"
            ],
            "application/vnd.google.colaboratory.intrinsic+json": {
              "type": "string"
            }
          },
          "metadata": {},
          "execution_count": 11
        }
      ]
    },
    {
      "cell_type": "code",
      "source": [
        "import random\n",
        "\n",
        "merged_column = (df['nom_hotel'] + '*' + df['ville']+ '*' +df[\"classifying\"].astype(str) ).tolist()\n",
        "\n",
        "def get_hotel () : \n",
        "   \n",
        "  #  print(merged_column) \n",
        "   random_item = random.choices(merged_column)[0]\n",
        "   return random_item\n",
        "  # return random_item.strftime('%d-%m-%Y') \n",
        "\n",
        " \n",
        "get_hotel() \n",
        "\n",
        "\n",
        "\n"
      ],
      "metadata": {
        "id": "-PPV9OdMrjW-",
        "colab": {
          "base_uri": "https://localhost:8080/",
          "height": 35
        },
        "outputId": "fe113353-ccfc-4f88-8830-8948ca67d638"
      },
      "execution_count": 12,
      "outputs": [
        {
          "output_type": "execute_result",
          "data": {
            "text/plain": [
              "'Hôtel ziban*Biskra*5'"
            ],
            "application/vnd.google.colaboratory.intrinsic+json": {
              "type": "string"
            }
          },
          "metadata": {},
          "execution_count": 12
        }
      ]
    },
    {
      "cell_type": "code",
      "source": [],
      "metadata": {
        "id": "xbaFUrbs7-KK"
      },
      "execution_count": 12,
      "outputs": []
    },
    {
      "cell_type": "code",
      "source": [
        "import random\n",
        "\n",
        "def get_status() : \n",
        "    my_list2 = ['honorée','annulée' , 'noshow']\n",
        "    weights = [4, 2, 1]  # Bias towards item1\n",
        "    random_item = random.choices(my_list2, weights=weights, k=1)[0] \n",
        "    return random_item\n",
        "\n",
        "get_status()   "
      ],
      "metadata": {
        "colab": {
          "base_uri": "https://localhost:8080/",
          "height": 35
        },
        "id": "oyFQkv1IDFC5",
        "outputId": "c86a0058-a4eb-4d75-a262-e889ba97b1c4"
      },
      "execution_count": 13,
      "outputs": [
        {
          "output_type": "execute_result",
          "data": {
            "text/plain": [
              "'honorée'"
            ],
            "application/vnd.google.colaboratory.intrinsic+json": {
              "type": "string"
            }
          },
          "metadata": {},
          "execution_count": 13
        }
      ]
    },
    {
      "cell_type": "code",
      "source": [
        "import random\n",
        "\n",
        "def get_payment_type() : \n",
        "    # my_list = ['PAT', 'PAT','PAT', 'CIB','CIB', 'Wiretransfert']\n",
        "    weights = [4, 2, 1]  # Bias towards item1\n",
        "    my_list = ['PAT', 'CIB', 'Wiretransfert']\n",
        "    # weights = [4, 2, 1]  # Bias towards item1\n",
        "    random_item = random.choices(my_list, weights=weights, k=1)[0]\n",
        "    # random_item = random.choices(my_list, k=1)[0]\n",
        "    return random_item\n",
        "\n",
        "get_payment_type()"
      ],
      "metadata": {
        "id": "GDXEgi54ejib",
        "colab": {
          "base_uri": "https://localhost:8080/",
          "height": 35
        },
        "outputId": "bfc83d71-f946-4544-e5db-734cdc3912b5"
      },
      "execution_count": 14,
      "outputs": [
        {
          "output_type": "execute_result",
          "data": {
            "text/plain": [
              "'CIB'"
            ],
            "application/vnd.google.colaboratory.intrinsic+json": {
              "type": "string"
            }
          },
          "metadata": {},
          "execution_count": 14
        }
      ]
    },
    {
      "cell_type": "code",
      "source": [
        "import random\n",
        "\n",
        "def get_reza_device() : \n",
        "    my_list2 = ['PC','Android Phone' , 'Iphone']\n",
        "    weights = [3, 2, 1]  # Bias towards item1\n",
        "    random_item = random.choices(my_list2, weights=weights, k=1)[0] \n",
        "    return random_item\n",
        "\n"
      ],
      "metadata": {
        "id": "QSOBYTHf3mcH"
      },
      "execution_count": 15,
      "outputs": []
    },
    {
      "cell_type": "markdown",
      "source": [
        "# **`This section is for generating and manipulating dates.`**"
      ],
      "metadata": {
        "id": "94IJKgVsttuI"
      }
    },
    {
      "cell_type": "code",
      "source": [
        "import datetime\n",
        "\n",
        "def add_days_to_date(date_string, days):\n",
        "    \"\"\"Add a number of days to a date and return the result in the dd-mm-YYYY format\"\"\"\n",
        "    # Parse the input date string to a datetime object\n",
        "    date = datetime.datetime.strptime(date_string , '%Y-%m-%d')\n",
        "    new_date = date + datetime.timedelta(days=days)\n",
        "    return new_date.strftime('%Y-%m-%d')\n",
        "\n",
        "add_days_to_date( '2020-12-12', 8)"
      ],
      "metadata": {
        "colab": {
          "base_uri": "https://localhost:8080/",
          "height": 35
        },
        "id": "yi5J1W4Z9LMy",
        "outputId": "079e90f8-bc8b-4230-ff54-b2762bbeb30a"
      },
      "execution_count": 16,
      "outputs": [
        {
          "output_type": "execute_result",
          "data": {
            "text/plain": [
              "'2020-12-20'"
            ],
            "application/vnd.google.colaboratory.intrinsic+json": {
              "type": "string"
            }
          },
          "metadata": {},
          "execution_count": 16
        }
      ]
    },
    {
      "cell_type": "code",
      "source": [
        "import random\n",
        "import datetime\n",
        "\n",
        "def generate_random_date():\n",
        "    \"\"\"Generate a random date between January 1st, 2020 and today\"\"\"\n",
        "    start_date = datetime.date(2020, 1, 1)\n",
        "    end_date = datetime.date.today()\n",
        "    delta = end_date - start_date\n",
        "    random_days = random.randint(0, delta.days)\n",
        "    random_date = start_date + datetime.timedelta(days=random_days)\n",
        "    # return random_date\n",
        "    return random_date.strftime('%Y-%m-%d') \n",
        "\n",
        "date= generate_random_date()\n",
        "print(date)  \n",
        "days = random.randint(1, 15)\n",
        "print(days)\n",
        "add_days_to_date( date, days )"
      ],
      "metadata": {
        "colab": {
          "base_uri": "https://localhost:8080/",
          "height": 70
        },
        "id": "xBkMGYnhAntT",
        "outputId": "bb538f39-8d2b-43e8-b78c-249876167ae4"
      },
      "execution_count": 17,
      "outputs": [
        {
          "output_type": "stream",
          "name": "stdout",
          "text": [
            "2022-02-23\n",
            "9\n"
          ]
        },
        {
          "output_type": "execute_result",
          "data": {
            "text/plain": [
              "'2022-03-04'"
            ],
            "application/vnd.google.colaboratory.intrinsic+json": {
              "type": "string"
            }
          },
          "metadata": {},
          "execution_count": 17
        }
      ]
    },
    {
      "cell_type": "code",
      "source": [
        "import random\n",
        "from datetime import date, timedelta\n",
        "\n",
        "def canceledOn(bookedOn , checkIn ) : \n",
        "\n",
        "   start = datetime.datetime.strptime(bookedOn , '%Y-%m-%d')\n",
        "   end  = datetime.datetime.strptime(checkIn  , '%Y-%m-%d')\n",
        "   \n",
        "   # generate a random number of days between the start and end dates\n",
        "   days_diff = ( end - start ).days\n",
        "   random_days = random.randint(0, days_diff)\n",
        "\n",
        "   # calculate the random date\n",
        "   random_date = start + timedelta(days=random_days)\n",
        "\n",
        "   # print the random date\n",
        "   return random_date.strftime('%Y-%m-%d')\n",
        "\n",
        "canceledOn('2022-02-01', '2022-02-12') "
      ],
      "metadata": {
        "colab": {
          "base_uri": "https://localhost:8080/",
          "height": 35
        },
        "id": "SKujtuyXlNyu",
        "outputId": "ca903c78-5d5d-4572-ecef-73a57a37cf02"
      },
      "execution_count": 18,
      "outputs": [
        {
          "output_type": "execute_result",
          "data": {
            "text/plain": [
              "'2022-02-03'"
            ],
            "application/vnd.google.colaboratory.intrinsic+json": {
              "type": "string"
            }
          },
          "metadata": {},
          "execution_count": 18
        }
      ]
    },
    {
      "cell_type": "markdown",
      "source": [
        "# **`This section is for room price a refund amount  .`**"
      ],
      "metadata": {
        "id": "TmXUSBcnuhZZ"
      }
    },
    {
      "cell_type": "code",
      "source": [
        "def roomPrice (classifying) : \n",
        "   if classifying == 1 : \n",
        "      price =  random.randint( 3000, 5000)\n",
        "\n",
        "   elif classifying == 2 :\n",
        "     price = random.randint( 5000 , 7000)\n",
        "\n",
        "   elif classifying == 3 :\n",
        "     price = random.randint( 6000 , 8000)\n",
        "\n",
        "   elif classifying == 4 :\n",
        "     price = random.randint( 8500 , 10000)\n",
        "\n",
        "   elif classifying == 5 :\n",
        "     price = random.randint( 12000 , 20000)   \n",
        "\n",
        "   return price\n",
        "\n",
        "roomPrice(3)   "
      ],
      "metadata": {
        "colab": {
          "base_uri": "https://localhost:8080/"
        },
        "id": "O69dWUd0-SCj",
        "outputId": "35e3b255-e49a-44cd-d068-b2b96067b0a7"
      },
      "execution_count": 19,
      "outputs": [
        {
          "output_type": "execute_result",
          "data": {
            "text/plain": [
              "7601"
            ]
          },
          "metadata": {},
          "execution_count": 19
        }
      ]
    },
    {
      "cell_type": "code",
      "source": [
        "def refundAmount (bookingAmount):\n",
        "    refundPer =  random.randint(80, 90)\n",
        "    refundAmount = bookingAmount*refundPer/100 \n",
        "    return int(refundAmount)\n",
        "refundAmount (20000)\n"
      ],
      "metadata": {
        "colab": {
          "base_uri": "https://localhost:8080/"
        },
        "id": "8jLcvZ5_gUxA",
        "outputId": "6fc7b5f4-30dd-47b1-b44c-4adf7445cb46"
      },
      "execution_count": 20,
      "outputs": [
        {
          "output_type": "execute_result",
          "data": {
            "text/plain": [
              "17200"
            ]
          },
          "metadata": {},
          "execution_count": 20
        }
      ]
    },
    {
      "cell_type": "markdown",
      "source": [
        "## **Section for commission calculation**"
      ],
      "metadata": {
        "id": "SF7bVmCv7bkg"
      }
    },
    {
      "cell_type": "code",
      "source": [
        "import random\n",
        "\n",
        "def get_hotel_commission(bookingAmount) : \n",
        "    CommissionPer =  random.randint(10, 25)\n",
        "    commissionAmount = bookingAmount* CommissionPer /100 \n",
        "    return int(commissionAmount)"
      ],
      "metadata": {
        "id": "pPJCo_Z377cn"
      },
      "execution_count": 21,
      "outputs": []
    },
    {
      "cell_type": "markdown",
      "source": [
        "### **`The script to fill the DB`**"
      ],
      "metadata": {
        "id": "kJhRzdIyvA2E"
      }
    },
    {
      "cell_type": "code",
      "source": [
        "\n",
        "import random\n",
        "from datetime import date, timedelta\n",
        "\n",
        "import psycopg2\n",
        "\n",
        "# Connect to the hosted PostgreSQL database\n",
        "conn = psycopg2.connect(\n",
        "    host=\"namla-dev.cbcn7atdxnnu.eu-west-1.rds.amazonaws.com\",\n",
        "    port=\"5432\",\n",
        "    database=\"namla_market\",\n",
        "    user=\"younes\",\n",
        "    password=\"tRd24WOsGCoe\"\n",
        ")\n",
        "\n",
        "# Open a cursor to perform database operations\n",
        "cur = conn.cursor()\n",
        "\n",
        "\n",
        "for i in range(100):\n",
        "\n",
        "   id = gen_id() \n",
        "   agency = get_agency()\n",
        "   print(agency)\n",
        "   list_agency = str(agency).split('*')\n",
        "\n",
        "   name = list_agency[0]\n",
        "\n",
        "   nameWithoutSpace  = name.replace(\" \", \"_\")\n",
        "  \n",
        "   phn=list_agency[2]\n",
        "   add=list_agency[3]\n",
        "\n",
        "\n",
        "   payementType = get_payment_type() \n",
        "   print(payementType) \n",
        "\n",
        "   email = list_agency[1]\n",
        "\n",
        "   status  = get_status() \n",
        "\n",
        "   device = get_reza_device()\n",
        "   \n",
        "   hotel = get_hotel()\n",
        "\n",
        "   my_list = hotel.split('*')\n",
        "   hotelName = my_list[0]\n",
        "\n",
        "   hotelAdd = my_list[1]\n",
        "   classifying = int(my_list[2])\n",
        "   print (classifying) \n",
        "\n",
        "  \n",
        "   bookedOn = generate_random_date()\n",
        "   print(bookedOn)\n",
        "\n",
        "   \n",
        "\n",
        "   days = random.randint(1, 100)\n",
        "\n",
        "   datechekin = add_days_to_date( bookedOn, days) \n",
        "   print(datechekin)\n",
        "\n",
        "   days = random.randint(1, 15) \n",
        "\n",
        "   datecheckout = add_days_to_date(datechekin, days)\n",
        "   print(datecheckout)\n",
        "   canceledon = None ; \n",
        "   roomCount = random.randint(1, 4) \n",
        "\n",
        "   roomprice = roomPrice(classifying)\n",
        "   bookingAmount = roomprice * roomCount\n",
        "    \n",
        "   refundamount = None\n",
        "\n",
        "   if (status == \"annulée\") : \n",
        "     canceledon =  canceledOn(bookedOn , datechekin )\n",
        "     start = datetime.datetime.strptime(canceledon  , '%Y-%m-%d')\n",
        "     end  = datetime.datetime.strptime(datechekin  , '%Y-%m-%d')\n",
        "     days_diff = ( end - start ).days \n",
        "     if (int(days_diff) > 1 ) :\n",
        "         refundamount = int(refundAmount (bookingAmount) )\n",
        "\n",
        "   print(canceledon)  \n",
        "  \n",
        "   NamlaticCom = get_hotel_commission(bookingAmount) \n",
        "   hotelCom = bookingAmount - NamlaticCom\n",
        "\n",
        "\n",
        "   \n",
        "\n",
        "   cur.execute(  \"INSERT INTO namla_market.reza_agency ( bookingno, bookingstatus, paymenttype, hotelname, hoteladdress, agencyname, agencyphoneno, agencyemail, agencylocalisation,roomcount, guestcount, days, bookedon , checkin, checkout, bookingamount, directhotelbooking, bookingamount_vat, amountpaid, amounttopayathotel, cancelledon, cancelledfee, servicecharge, refundamount, cibbankfee, hotelcommission, agencecommission ,  hotelownervat, namlaticcommission , namlaticvat) VALUES (%s, %s, %s, %s, %s, %s, %s, %s, %s, %s, %s, %s, %s, %s, %s, %s, %s, %s, %s, %s, %s, %s, %s, %s, %s, %s, %s, %s, %s, %s)\", (id ,status , payementType , hotelName, hotelAdd, name, phn , email , add , roomCount , roomCount , days, bookedOn , datechekin, datecheckout , bookingAmount , 'No', '$550', '$100', '$450',canceledon , None, None, refundamount, 0.2, hotelCom , 123, hotelCom/0.09 , NamlaticCom , NamlaticCom/0.09 )) \n",
        "   # Commit the transaction\n",
        "conn.commit() \n",
        "\n",
        "# Close the cursor and database connection\n",
        "cur.close()\n",
        "conn.close()"
      ],
      "metadata": {
        "id": "FP1y--azNUiz",
        "colab": {
          "base_uri": "https://localhost:8080/"
        },
        "outputId": "7d5bc438-5813-4bb7-b356-95864bfa2047"
      },
      "execution_count": 31,
      "outputs": [
        {
          "output_type": "stream",
          "name": "stdout",
          "text": [
            "RIWAYA*merwan@riwaya-travel.com*-33659183908*TLEMCEN\n",
            "PAT\n",
            "5\n",
            "2023-02-24\n",
            "2023-04-12\n",
            "2023-04-13\n",
            "None\n",
            "CHERNINE TRAVEL*chernine.voyages@gmail.com*0 557145201*BEJAIA\n",
            "CIB\n",
            "5\n",
            "2023-02-08\n",
            "2023-02-13\n",
            "2023-02-27\n",
            "None\n",
            "ONAT*market.vente@onat.onat.dz*0 21640900*TLEMCEN\n",
            "Wiretransfert\n",
            "4\n",
            "2022-09-03\n",
            "2022-11-21\n",
            "2022-11-28\n",
            "None\n",
            "NAUTIKA TRAVEL*nautika.voyage.alger@gmail.com*0 21775178*ALGER\n",
            "PAT\n",
            "3\n",
            "2022-09-11\n",
            "2022-09-12\n",
            "2022-09-16\n",
            "2022-09-11\n",
            "CHERNINE TRAVEL*chernine.voyages@gmail.com*0 557145201*BEJAIA\n",
            "Wiretransfert\n",
            "5\n",
            "2022-10-20\n",
            "2022-10-25\n",
            "2022-10-29\n",
            "2022-10-21\n",
            "EL FEHRI TOUR*contact@elfehritour.com*0 770837467*TLEMCEN\n",
            "Wiretransfert\n",
            "3\n",
            "2022-12-30\n",
            "2023-01-19\n",
            "2023-01-24\n",
            "2022-12-30\n",
            "L'ESCAPADE TOURISME*lescapade.voyages@gmail.com*0 23348332\n",
            "*BEJAIA\n",
            "PAT\n",
            "4\n",
            "2021-11-23\n",
            "2022-01-31\n",
            "2022-02-14\n",
            "None\n",
            "EL FEHRI TOUR*contact@elfehritour.com*0 770837467*TLEMCEN\n",
            "PAT\n",
            "4\n",
            "2020-03-20\n",
            "2020-06-01\n",
            "2020-06-07\n",
            "None\n",
            "FELLAOUCEN TOURS*fellaoucentour@hotmail.com\n",
            "nawal.fel.contact@gmail.com*0 561722616*ALGER\n",
            "Wiretransfert\n",
            "4\n",
            "2021-04-20\n",
            "2021-05-05\n",
            "2021-05-12\n",
            "None\n",
            "ONAT*market.vente@onat.onat.dz*0 21640900*TLEMCEN\n",
            "PAT\n",
            "4\n",
            "2022-08-03\n",
            "2022-08-23\n",
            "2022-09-05\n",
            "2022-08-09\n",
            "FELLAOUCEN TOURS*fellaoucentour@hotmail.com\n",
            "nawal.fel.contact@gmail.com*0 561722616*ALGER\n",
            "PAT\n",
            "5\n",
            "2022-11-21\n",
            "2022-12-30\n",
            "2023-01-08\n",
            "None\n",
            "RIWAYA*merwan@riwaya-travel.com*-33659183908*TLEMCEN\n",
            "PAT\n",
            "5\n",
            "2022-08-18\n",
            "2022-11-24\n",
            "2022-11-26\n",
            "2022-10-16\n",
            "ISABELLE VOYAGES*sarl.isabellevoyages@gmail.com*0 34860597*BEJAIA\n",
            "CIB\n",
            "5\n",
            "2022-11-14\n",
            "2023-01-15\n",
            "2023-01-27\n",
            "None\n",
            "mazia*mazia.agence@gmail.com*0 667356126*ALGER\n",
            "CIB\n",
            "5\n",
            "2020-05-10\n",
            "2020-06-02\n",
            "2020-06-03\n",
            "None\n",
            "L'ESCAPADE TOURISME*lescapade.voyages@gmail.com*0 23348332\n",
            "*BEJAIA\n",
            "PAT\n",
            "3\n",
            "2020-01-15\n",
            "2020-03-18\n",
            "2020-03-29\n",
            "None\n",
            "QUEEN TOURS*qtravel324@gmail.com*0 540715726\n",
            "*ALGER\n",
            "PAT\n",
            "5\n",
            "2022-12-22\n",
            "2022-12-23\n",
            "2022-12-27\n",
            "None\n",
            "DARTOUR*dartour13@gmail.com*0 542281095*ALGER\n",
            "PAT\n",
            "5\n",
            "2023-02-09\n",
            "2023-05-16\n",
            "2023-05-22\n",
            "None\n",
            "QUEEN TOURS*qtravel324@gmail.com*0 540715726\n",
            "*ALGER\n",
            "Wiretransfert\n",
            "3\n",
            "2020-10-21\n",
            "2020-12-23\n",
            "2021-01-06\n",
            "2020-10-28\n",
            "NAUTIKA TRAVEL*nautika.voyage.alger@gmail.com*0 21775178*ALGER\n",
            "Wiretransfert\n",
            "5\n",
            "2021-06-22\n",
            "2021-07-01\n",
            "2021-07-07\n",
            "None\n",
            "ISABELLE VOYAGES*sarl.isabellevoyages@gmail.com*0 34860597\n",
            "*ALGER\n",
            "PAT\n",
            "5\n",
            "2021-04-27\n",
            "2021-06-04\n",
            "2021-06-11\n",
            "None\n",
            "EL FEHRI TOUR*contact@elfehritour.com*0 770837467*TLEMCEN\n",
            "PAT\n",
            "5\n",
            "2022-05-03\n",
            "2022-06-22\n",
            "2022-06-28\n",
            "2022-06-14\n",
            "ISABELLE VOYAGES*sarl.isabellevoyages@gmail.com*0 34860597\n",
            "*ALGER\n",
            "CIB\n",
            "3\n",
            "2022-04-08\n",
            "2022-07-13\n",
            "2022-07-21\n",
            "None\n",
            "RIWAYA*merwan@riwaya-travel.com*-33659183908*TLEMCEN\n",
            "PAT\n",
            "5\n",
            "2022-11-27\n",
            "2022-12-31\n",
            "2023-01-03\n",
            "2022-12-30\n",
            "L'ESCAPADE TOURISME*lescapade.voyages@gmail.com*0 23348332\n",
            "*BEJAIA\n",
            "Wiretransfert\n",
            "4\n",
            "2021-12-15\n",
            "2022-01-04\n",
            "2022-01-07\n",
            "None\n",
            "FELLAOUCEN TOURS*fellaoucentour@hotmail.com\n",
            "nawal.fel.contact@gmail.com*0 561722616*ALGER\n",
            "PAT\n",
            "3\n",
            "2021-07-10\n",
            "2021-09-23\n",
            "2021-09-29\n",
            "None\n",
            "NUMIDIA*b.m.amir@hotmail.fr  \n",
            "amir.belhadjmostefa@bcdtarveldz.com*0 560020859\n",
            "*ALGER\n",
            "Wiretransfert\n",
            "5\n",
            "2021-03-25\n",
            "2021-06-19\n",
            "2021-06-28\n",
            "None\n",
            "LEADER TOURS*manager@leadertours-dz.com*0 21771535\n",
            "*TLEMCEN\n",
            "PAT\n",
            "3\n",
            "2022-10-19\n",
            "2022-11-03\n",
            "2022-11-12\n",
            "None\n",
            "ARFALOUNE VOYAGES*arfaloune@yahoo.com*0 25234622\n",
            "*ALGER\n",
            "Wiretransfert\n",
            "3\n",
            "2021-07-08\n",
            "2021-08-20\n",
            "2021-09-02\n",
            "None\n",
            "RIWAYA*merwan@riwaya-travel.com*-33659183908*TLEMCEN\n",
            "Wiretransfert\n",
            "5\n",
            "2020-05-15\n",
            "2020-07-20\n",
            "2020-07-26\n",
            "None\n",
            "LEADER TOURS*manager@leadertours-dz.com*0 21771535\n",
            "*TLEMCEN\n",
            "PAT\n",
            "3\n",
            "2022-06-06\n",
            "2022-07-10\n",
            "2022-07-23\n",
            "None\n",
            "REBIB TRAVEL *contact@rebib-travel.com*0 660368505*ORAN\n",
            "Wiretransfert\n",
            "5\n",
            "2022-10-21\n",
            "2022-10-26\n",
            "2022-10-29\n",
            "2022-10-26\n",
            "FELLAOUCEN TOURS*fellaoucentour@hotmail.com\n",
            "nawal.fel.contact@gmail.com*0 561722616*ALGER\n",
            "PAT\n",
            "4\n",
            "2023-02-26\n",
            "2023-05-13\n",
            "2023-05-26\n",
            "None\n",
            "ONAT*market.vente@onat.onat.dz*0 21640900*TLEMCEN\n",
            "CIB\n",
            "4\n",
            "2021-08-30\n",
            "2021-08-31\n",
            "2021-09-11\n",
            "None\n",
            "ONAT*market.vente@onat.onat.dz*0 21640900*TLEMCEN\n",
            "Wiretransfert\n",
            "4\n",
            "2022-04-14\n",
            "2022-06-03\n",
            "2022-06-17\n",
            "2022-06-03\n",
            "ARFALOUNE VOYAGES*arfaloune@yahoo.com*0 25234622\n",
            "*ALGER\n",
            "CIB\n",
            "3\n",
            "2020-06-17\n",
            "2020-07-22\n",
            "2020-08-03\n",
            "None\n",
            "NAUTIKA TRAVEL*nautika.voyage.alger@gmail.com*0 21775178*ALGER\n",
            "CIB\n",
            "4\n",
            "2023-03-29\n",
            "2023-06-09\n",
            "2023-06-21\n",
            "2023-05-24\n",
            "CHERNINE TRAVEL*chernine.voyages@gmail.com*0 557145201*BEJAIA\n",
            "Wiretransfert\n",
            "3\n",
            "2021-12-18\n",
            "2022-01-26\n",
            "2022-02-02\n",
            "None\n",
            "ARFALOUNE VOYAGES*arfaloune@yahoo.com*0 25234622\n",
            "*ALGER\n",
            "Wiretransfert\n",
            "3\n",
            "2022-09-06\n",
            "2022-10-09\n",
            "2022-10-22\n",
            "None\n",
            "ONAT*market.vente@onat.onat.dz*0 21640900*TLEMCEN\n",
            "PAT\n",
            "5\n",
            "2022-01-01\n",
            "2022-03-22\n",
            "2022-03-28\n",
            "2022-03-17\n",
            "CHEKOUANE TRAVEL*chekouane.travel@gmail.com*0 43595877*TLEMCEN\n",
            "CIB\n",
            "3\n",
            "2020-03-27\n",
            "2020-07-02\n",
            "2020-07-05\n",
            "2020-05-10\n",
            "ISABELLE VOYAGES*sarl.isabellevoyages@gmail.com*0 34860597*BEJAIA\n",
            "CIB\n",
            "5\n",
            "2022-10-27\n",
            "2022-11-19\n",
            "2022-11-28\n",
            "None\n",
            "EL NOUZALAA TRAVEL*elnozalaa.tours@gmail.com*0 561043716\n",
            "*ALGER\n",
            "PAT\n",
            "4\n",
            "2022-06-25\n",
            "2022-10-02\n",
            "2022-10-09\n",
            "None\n",
            "FELLAOUCEN TOURS*fellaoucentour@hotmail.com\n",
            "nawal.fel.contact@gmail.com*0 561722616*ALGER\n",
            "CIB\n",
            "5\n",
            "2021-02-22\n",
            "2021-06-01\n",
            "2021-06-04\n",
            "None\n",
            "LOYAL TRAVELS SERVICES*loyal.vip.travelservices@gmail.com*0 771101049\n",
            "*BEJAIA\n",
            "PAT\n",
            "4\n",
            "2023-01-03\n",
            "2023-01-17\n",
            "2023-02-01\n",
            "None\n",
            "ISABELLE VOYAGES*sarl.isabellevoyages@gmail.com*0 34860597*BEJAIA\n",
            "PAT\n",
            "3\n",
            "2022-01-14\n",
            "2022-03-24\n",
            "2022-04-07\n",
            "None\n",
            "NUMIDIA*b.m.amir@hotmail.fr  \n",
            "amir.belhadjmostefa@bcdtarveldz.com*0 560020859\n",
            "*ALGER\n",
            "PAT\n",
            "5\n",
            "2020-11-27\n",
            "2020-12-23\n",
            "2020-12-27\n",
            "None\n",
            "QUEEN TOURS*qtravel324@gmail.com*0 540715726\n",
            "*ALGER\n",
            "PAT\n",
            "3\n",
            "2020-11-16\n",
            "2020-12-09\n",
            "2020-12-23\n",
            "None\n",
            "REBIB TRAVEL *contact@rebib-travel.com*0 660368505*ORAN\n",
            "PAT\n",
            "4\n",
            "2022-03-10\n",
            "2022-03-13\n",
            "2022-03-23\n",
            "None\n",
            "REBIB TRAVEL *contact@rebib-travel.com*0 660368505*ORAN\n",
            "PAT\n",
            "3\n",
            "2020-11-10\n",
            "2020-11-29\n",
            "2020-12-10\n",
            "None\n",
            "NUMIDIA TRIONLINE*support.trip@numidiatravel.com*0 555043322*BEJAIA\n",
            "CIB\n",
            "5\n",
            "2021-09-04\n",
            "2021-10-16\n",
            "2021-10-23\n",
            "2021-10-05\n",
            "CHEKOUANE TRAVEL*chekouane.travel@gmail.com*0 43595877*TLEMCEN\n",
            "CIB\n",
            "5\n",
            "2021-11-25\n",
            "2022-01-18\n",
            "2022-01-19\n",
            "None\n",
            "L'ESCAPADE TOURISME*lescapade.voyages@gmail.com*0 23348332\n",
            "*BEJAIA\n",
            "CIB\n",
            "4\n",
            "2020-11-04\n",
            "2020-12-25\n",
            "2021-01-04\n",
            "2020-11-10\n",
            "TIMGAD VOYAGES*cherif@timgad-voyages.com*0 661340177*BEJAIA\n",
            "PAT\n",
            "5\n",
            "2021-03-09\n",
            "2021-03-17\n",
            "2021-03-18\n",
            "2021-03-12\n",
            "FELLAOUCEN TOURS*fellaoucentour@hotmail.com\n",
            "nawal.fel.contact@gmail.com*0 561722616*ALGER\n",
            "CIB\n",
            "3\n",
            "2021-07-02\n",
            "2021-07-26\n",
            "2021-08-07\n",
            "None\n",
            "ONAT*market.vente@onat.onat.dz*0 21640900*TLEMCEN\n",
            "PAT\n",
            "3\n",
            "2022-11-23\n",
            "2022-12-27\n",
            "2022-12-29\n",
            "None\n",
            "RIWAYA*merwan@riwaya-travel.com*-33659183908*TLEMCEN\n",
            "PAT\n",
            "4\n",
            "2020-08-25\n",
            "2020-08-26\n",
            "2020-09-06\n",
            "None\n",
            "ONAT*market.vente@onat.onat.dz*0 21640900*TLEMCEN\n",
            "CIB\n",
            "4\n",
            "2023-02-06\n",
            "2023-02-09\n",
            "2023-02-19\n",
            "None\n",
            "CHEKOUANE TRAVEL*chekouane.travel@gmail.com*0 43595877*TLEMCEN\n",
            "PAT\n",
            "5\n",
            "2022-11-26\n",
            "2023-02-27\n",
            "2023-03-07\n",
            "None\n",
            "NAUTIKA TRAVEL*nautika.voyage.alger@gmail.com*0 21775178*ALGER\n",
            "CIB\n",
            "3\n",
            "2022-05-14\n",
            "2022-06-29\n",
            "2022-07-07\n",
            "None\n",
            "RIWAYA*merwan@riwaya-travel.com*-33659183908*TLEMCEN\n",
            "CIB\n",
            "3\n",
            "2023-03-24\n",
            "2023-03-28\n",
            "2023-04-08\n",
            "None\n",
            "mazia*mazia.agence@gmail.com*0 667356126*ALGER\n",
            "PAT\n",
            "3\n",
            "2020-07-11\n",
            "2020-08-25\n",
            "2020-08-29\n",
            "None\n",
            "ISABELLE VOYAGES*sarl.isabellevoyages@gmail.com*0 34860597*BEJAIA\n",
            "PAT\n",
            "5\n",
            "2021-03-07\n",
            "2021-05-14\n",
            "2021-05-21\n",
            "2021-03-25\n",
            "SKY GULF*ceo@skygulf.travel*201152538428*TLEMCEN\n",
            "Wiretransfert\n",
            "5\n",
            "2022-05-12\n",
            "2022-05-28\n",
            "2022-06-11\n",
            "None\n",
            "mazia*mazia.agence@gmail.com*0 667356126*ALGER\n",
            "PAT\n",
            "3\n",
            "2022-09-15\n",
            "2022-12-17\n",
            "2022-12-30\n",
            "None\n",
            "ISABELLE VOYAGES*sarl.isabellevoyages@gmail.com*0 34860597\n",
            "*ALGER\n",
            "PAT\n",
            "5\n",
            "2020-12-16\n",
            "2021-01-13\n",
            "2021-01-28\n",
            "None\n",
            "NUMIDIA TRIONLINE*support.trip@numidiatravel.com*0 555043322*BEJAIA\n",
            "PAT\n",
            "5\n",
            "2022-06-02\n",
            "2022-08-24\n",
            "2022-09-03\n",
            "None\n",
            "LOYAL TRAVELS SERVICES*loyal.vip.travelservices@gmail.com*0 771101049\n",
            "*BEJAIA\n",
            "PAT\n",
            "5\n",
            "2020-03-10\n",
            "2020-03-17\n",
            "2020-03-29\n",
            "None\n",
            "FELLAOUCEN TOURS*fellaoucentour@hotmail.com\n",
            "nawal.fel.contact@gmail.com*0 561722616*ALGER\n",
            "PAT\n",
            "5\n",
            "2021-08-06\n",
            "2021-09-22\n",
            "2021-10-01\n",
            "None\n",
            "EL FEHRI TOUR*contact@elfehritour.com*0 770837467*TLEMCEN\n",
            "PAT\n",
            "3\n",
            "2020-08-23\n",
            "2020-11-02\n",
            "2020-11-12\n",
            "None\n",
            "RIWAYA*merwan@riwaya-travel.com*-33659183908*TLEMCEN\n",
            "Wiretransfert\n",
            "4\n",
            "2020-04-11\n",
            "2020-07-04\n",
            "2020-07-13\n",
            "None\n",
            "FELLAOUCEN TOURS*fellaoucentour@hotmail.com\n",
            "nawal.fel.contact@gmail.com*0 561722616*ALGER\n",
            "PAT\n",
            "3\n",
            "2022-08-18\n",
            "2022-11-16\n",
            "2022-11-26\n",
            "2022-08-27\n",
            "ARFALOUNE VOYAGES*arfaloune@yahoo.com*0 25234622\n",
            "*ALGER\n",
            "CIB\n",
            "5\n",
            "2021-04-15\n",
            "2021-06-15\n",
            "2021-06-23\n",
            "None\n",
            "RIWAYA*merwan@riwaya-travel.com*-33659183908*TLEMCEN\n",
            "CIB\n",
            "3\n",
            "2021-03-12\n",
            "2021-06-06\n",
            "2021-06-21\n",
            "None\n",
            "CHEKOUANE TRAVEL*chekouane.travel@gmail.com*0 43595877*TLEMCEN\n",
            "PAT\n",
            "3\n",
            "2022-01-16\n",
            "2022-01-30\n",
            "2022-02-07\n",
            "2022-01-23\n",
            "LOYAL TRAVELS SERVICES*loyal.vip.travelservices@gmail.com*0 771101049\n",
            "*BEJAIA\n",
            "PAT\n",
            "3\n",
            "2022-12-11\n",
            "2023-02-28\n",
            "2023-03-04\n",
            "None\n",
            "DIMA VOYAGES*kameltoumia.dimavoyages@gmail.com*00 21650508050*ALGER\n",
            "PAT\n",
            "4\n",
            "2022-07-16\n",
            "2022-08-30\n",
            "2022-09-02\n",
            "None\n",
            "TIMGAD VOYAGES*cherif@timgad-voyages.com*0 661340177*BEJAIA\n",
            "PAT\n",
            "5\n",
            "2021-10-03\n",
            "2022-01-10\n",
            "2022-01-21\n",
            "None\n",
            "QUEEN TOURS*qtravel324@gmail.com*0 540715726\n",
            "*ALGER\n",
            "PAT\n",
            "3\n",
            "2020-03-20\n",
            "2020-05-29\n",
            "2020-06-11\n",
            "2020-04-12\n",
            "ISABELLE VOYAGES*sarl.isabellevoyages@gmail.com*0 34860597\n",
            "*ALGER\n",
            "CIB\n",
            "3\n",
            "2022-05-09\n",
            "2022-07-28\n",
            "2022-08-07\n",
            "None\n",
            "REBIB TRAVEL *contact@rebib-travel.com*0 660368505*ORAN\n",
            "CIB\n",
            "4\n",
            "2022-03-08\n",
            "2022-04-14\n",
            "2022-04-18\n",
            "None\n",
            "FELLAOUCEN TOURS*fellaoucentour@hotmail.com\n",
            "nawal.fel.contact@gmail.com*0 561722616*ALGER\n",
            "PAT\n",
            "5\n",
            "2021-11-07\n",
            "2022-01-03\n",
            "2022-01-09\n",
            "None\n",
            "NUMIDIA*b.m.amir@hotmail.fr  \n",
            "amir.belhadjmostefa@bcdtarveldz.com*0 560020859\n",
            "*ALGER\n",
            "PAT\n",
            "3\n",
            "2022-01-23\n",
            "2022-04-02\n",
            "2022-04-12\n",
            "2022-02-14\n",
            "EL NOUZALAA TRAVEL*elnozalaa.tours@gmail.com*0 561043716\n",
            "*ALGER\n",
            "CIB\n",
            "3\n",
            "2021-02-04\n",
            "2021-03-15\n",
            "2021-03-23\n",
            "None\n",
            "NUMIDIA*b.m.amir@hotmail.fr  \n",
            "amir.belhadjmostefa@bcdtarveldz.com*0 560020859\n",
            "*ALGER\n",
            "CIB\n",
            "4\n",
            "2020-12-22\n",
            "2021-02-15\n",
            "2021-02-23\n",
            "None\n",
            "L'ESCAPADE TOURISME*lescapade.voyages@gmail.com*0 23348332\n",
            "*BEJAIA\n",
            "PAT\n",
            "4\n",
            "2022-08-19\n",
            "2022-11-24\n",
            "2022-11-29\n",
            "2022-10-22\n",
            "ONAT*market.vente@onat.onat.dz*0 21640900*TLEMCEN\n",
            "CIB\n",
            "4\n",
            "2021-10-26\n",
            "2022-01-11\n",
            "2022-01-23\n",
            "None\n",
            "LEADER TOURS*manager@leadertours-dz.com*0 21771535\n",
            "*TLEMCEN\n",
            "PAT\n",
            "5\n",
            "2023-01-28\n",
            "2023-04-06\n",
            "2023-04-11\n",
            "2023-02-18\n",
            "ARFALOUNE VOYAGES*arfaloune@yahoo.com*0 25234622\n",
            "*ALGER\n",
            "PAT\n",
            "5\n",
            "2020-11-04\n",
            "2020-12-21\n",
            "2021-01-02\n",
            "None\n",
            "NUMIDIA*b.m.amir@hotmail.fr  \n",
            "amir.belhadjmostefa@bcdtarveldz.com*0 560020859\n",
            "*ALGER\n",
            "CIB\n",
            "3\n",
            "2020-02-07\n",
            "2020-03-25\n",
            "2020-04-07\n",
            "None\n",
            "NUMIDIA*b.m.amir@hotmail.fr  \n",
            "amir.belhadjmostefa@bcdtarveldz.com*0 560020859\n",
            "*ALGER\n",
            "CIB\n",
            "3\n",
            "2022-03-23\n",
            "2022-04-12\n",
            "2022-04-19\n",
            "None\n",
            "QUEEN TOURS*qtravel324@gmail.com*0 540715726\n",
            "*ALGER\n",
            "PAT\n",
            "4\n",
            "2020-03-29\n",
            "2020-06-05\n",
            "2020-06-08\n",
            "None\n",
            "ARFALOUNE VOYAGES*arfaloune@yahoo.com*0 25234622\n",
            "*ALGER\n",
            "PAT\n",
            "5\n",
            "2020-02-18\n",
            "2020-05-24\n",
            "2020-06-07\n",
            "None\n",
            "FELLAOUCEN TOURS*fellaoucentour@hotmail.com\n",
            "nawal.fel.contact@gmail.com*0 561722616*ALGER\n",
            "CIB\n",
            "5\n",
            "2021-12-22\n",
            "2022-03-11\n",
            "2022-03-13\n",
            "None\n",
            "ISABELLE VOYAGES*sarl.isabellevoyages@gmail.com*0 34860597*BEJAIA\n",
            "PAT\n",
            "3\n",
            "2020-07-04\n",
            "2020-08-30\n",
            "2020-09-10\n",
            "None\n",
            "ARFALOUNE VOYAGES*arfaloune@yahoo.com*0 25234622\n",
            "*ALGER\n",
            "CIB\n",
            "4\n",
            "2021-08-20\n",
            "2021-11-22\n",
            "2021-12-04\n",
            "None\n",
            "ISABELLE VOYAGES*sarl.isabellevoyages@gmail.com*0 34860597*BEJAIA\n",
            "PAT\n",
            "5\n",
            "2020-08-17\n",
            "2020-10-05\n",
            "2020-10-11\n",
            "None\n",
            "REBIB TRAVEL *contact@rebib-travel.com*0 660368505*ORAN\n",
            "Wiretransfert\n",
            "4\n",
            "2021-08-29\n",
            "2021-11-15\n",
            "2021-11-17\n",
            "2021-10-24\n",
            "mazia*mazia.agence@gmail.com*0 667356126*ALGER\n",
            "Wiretransfert\n",
            "4\n",
            "2023-02-13\n",
            "2023-05-03\n",
            "2023-05-09\n",
            "None\n",
            "QUEEN TOURS*qtravel324@gmail.com*0 540715726\n",
            "*ALGER\n",
            "PAT\n",
            "3\n",
            "2022-01-16\n",
            "2022-02-12\n",
            "2022-02-24\n",
            "None\n",
            "EL NOUZALAA TRAVEL*elnozalaa.tours@gmail.com*0 561043716\n",
            "*ALGER\n",
            "PAT\n",
            "3\n",
            "2022-11-30\n",
            "2023-02-09\n",
            "2023-02-16\n",
            "2022-12-06\n"
          ]
        }
      ]
    }
  ],
  "metadata": {
    "colab": {
      "provenance": []
    },
    "kernelspec": {
      "display_name": "Python 3",
      "name": "python3"
    }
  },
  "nbformat": 4,
  "nbformat_minor": 0
}